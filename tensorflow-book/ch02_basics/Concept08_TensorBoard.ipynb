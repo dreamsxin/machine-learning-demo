{
 "cells": [
  {
   "cell_type": "markdown",
   "metadata": {},
   "source": [
    "# Ch 02: Concept 08\n",
    "\n",
    "## Using TensorBoard\n",
    "\n",
    "TensorBoard is great way to visualize what's happening behind the code.\n",
    "\n",
    "In this example, we'll loop through some numbers to improve our guess of the average value. Then we can visualize the results on TensorBoard.\n",
    "\n",
    "Let's just set ourselves up with some data to work with:"
   ]
  },
  {
   "cell_type": "code",
   "execution_count": 1,
   "metadata": {
    "collapsed": true
   },
   "outputs": [],
   "source": [
    "import tensorflow as tf\n",
    "import numpy as np\n",
    "\n",
    "raw_data = np.random.normal(10, 1, 100)"
   ]
  },
  {
   "cell_type": "markdown",
   "metadata": {},
   "source": [
    "The moving average is defined as follows:"
   ]
  },
  {
   "cell_type": "code",
   "execution_count": 2,
   "metadata": {
    "collapsed": true
   },
   "outputs": [],
   "source": [
    "alpha = tf.constant(0.05)\n",
    "curr_value = tf.placeholder(tf.float32)\n",
    "prev_avg = tf.Variable(0.)\n",
    "\n",
    "update_avg = alpha * curr_value + (1 - alpha) * prev_avg"
   ]
  },
  {
   "cell_type": "markdown",
   "metadata": {},
   "source": [
    "Here's what we care to visualize:"
   ]
  },
  {
   "cell_type": "code",
   "execution_count": 3,
   "metadata": {
    "collapsed": true
   },
   "outputs": [],
   "source": [
    "avg_hist = tf.scalar_summary(\"running average\", update_avg)\n",
    "value_hist = tf.scalar_summary(\"incoming values\", curr_value)\n",
    "\n",
    "merged = tf.merge_all_summaries()\n",
    "writer = tf.train.SummaryWriter(\"./logs\")"
   ]
  },
  {
   "cell_type": "markdown",
   "metadata": {},
   "source": [
    "Time to compute the moving averages, We'll also run merged op to track how the values change:"
   ]
  },
  {
   "cell_type": "code",
   "execution_count": 4,
   "metadata": {
    "collapsed": false
   },
   "outputs": [
    {
     "name": "stdout",
     "output_type": "stream",
     "text": [
      "(10.11867409416166, 0.5059337)\n",
      "(9.5127269148221671, 0.95627332)\n",
      "(9.5278101714604162, 1.3848501)\n",
      "(9.76053217334435, 1.8036343)\n",
      "(11.726817307446074, 2.2997935)\n",
      "(9.7125294812525951, 2.6704302)\n",
      "(8.9214755047577992, 2.9829824)\n",
      "(8.7011992107168492, 3.2688932)\n",
      "(11.063966490104095, 3.6586468)\n",
      "(10.188621913408122, 3.9851456)\n",
      "(8.986398039154821, 4.235208)\n",
      "(9.6863154440534043, 4.5077634)\n",
      "(11.480469126572467, 4.8563986)\n",
      "(7.9364888968322962, 5.0104032)\n",
      "(10.838597064282684, 5.3018126)\n",
      "(9.7812660752372906, 5.5257854)\n",
      "(8.6213260012220054, 5.6805625)\n",
      "(9.9026614472913774, 5.8916674)\n",
      "(11.388740026267126, 6.1665211)\n",
      "(10.478849261352915, 6.3821373)\n",
      "(10.03126206179178, 6.5645933)\n",
      "(9.8831538097973528, 6.7305212)\n",
      "(11.833131812957102, 6.985652)\n",
      "(10.961754750896933, 7.1844568)\n",
      "(10.839387436932668, 7.3672032)\n",
      "(9.1768459945953094, 7.4576855)\n",
      "(8.711602027808528, 7.5203815)\n",
      "(9.9188859854275968, 7.6403069)\n",
      "(10.436341408431927, 7.7801089)\n",
      "(9.283554465499968, 7.8552809)\n",
      "(9.3433773208437962, 7.9296856)\n",
      "(10.068543426802222, 8.0366287)\n",
      "(9.8322526998417956, 8.1264095)\n",
      "(11.150028912016078, 8.2775908)\n",
      "(8.0814769525045271, 8.2677851)\n",
      "(9.5097027427676331, 8.3298807)\n",
      "(9.7142171685924072, 8.3990974)\n",
      "(8.7203779443158496, 8.4151611)\n",
      "(7.8226873950454312, 8.3855371)\n",
      "(8.9451940885858807, 8.4135199)\n",
      "(8.3890923153529329, 8.4122982)\n",
      "(9.290983605389739, 8.4562321)\n",
      "(9.3311304590143962, 8.4999771)\n",
      "(10.113576963779167, 8.580657)\n",
      "(9.3429894795628563, 8.6187735)\n",
      "(10.258828471488377, 8.7007761)\n",
      "(10.186444399534393, 8.7750597)\n",
      "(7.940315195446761, 8.7333221)\n",
      "(10.492578615687453, 8.8212843)\n",
      "(9.3937004892964371, 8.849905)\n",
      "(10.158029719162814, 8.9153109)\n",
      "(9.1242540178108822, 8.9257584)\n",
      "(11.57526272041321, 9.0582333)\n",
      "(8.7604463698185384, 9.0433445)\n",
      "(10.12465622049724, 9.0974102)\n",
      "(9.7080489626125388, 9.1279421)\n",
      "(9.5085155319033436, 9.1469707)\n",
      "(9.8598888464483156, 9.1826162)\n",
      "(7.3496849829582196, 9.0909691)\n",
      "(7.5729459244601909, 9.0150671)\n",
      "(8.627489837674343, 8.9956884)\n",
      "(11.197080384484897, 9.1057587)\n",
      "(9.4444291351744845, 9.1226921)\n",
      "(9.8616426718961083, 9.1596394)\n",
      "(11.159644855178819, 9.2596397)\n",
      "(10.710794019086777, 9.3321972)\n",
      "(10.057617735965335, 9.3684683)\n",
      "(9.2474070777928077, 9.3624144)\n",
      "(10.143699410789708, 9.4014788)\n",
      "(10.195107810755555, 9.4411602)\n",
      "(10.069770045395579, 9.4725904)\n",
      "(9.3848871288066213, 9.4682045)\n",
      "(8.3432875131084536, 9.4119587)\n",
      "(11.964087916619249, 9.5395651)\n",
      "(9.506188993772561, 9.5378962)\n",
      "(9.9043581632154289, 9.5562191)\n",
      "(9.9044448983470676, 9.5736303)\n",
      "(8.4848572423561244, 9.5191917)\n",
      "(9.5931995823360747, 9.522892)\n",
      "(8.9635151988486452, 9.4949226)\n",
      "(7.4362469259475628, 9.3919888)\n",
      "(10.409194500182394, 9.4428492)\n",
      "(9.3447997497855457, 9.4379473)\n",
      "(11.481531224784842, 9.5401268)\n",
      "(8.6841063608854334, 9.4973249)\n",
      "(11.052374788443792, 9.575078)\n",
      "(9.0166652069803437, 9.5471573)\n",
      "(9.8343691619751024, 9.5615177)\n",
      "(9.9395596414055607, 9.5804195)\n",
      "(10.239393563077979, 9.613368)\n",
      "(9.830206870011148, 9.6242104)\n",
      "(9.8584283639192645, 9.6359215)\n",
      "(10.967961530386223, 9.7025232)\n",
      "(10.032121658048855, 9.7190027)\n",
      "(9.9374661686474148, 9.7299252)\n",
      "(9.6565270651310904, 9.7262554)\n",
      "(9.9159037210953951, 9.7357378)\n",
      "(10.438567043988872, 9.7708797)\n",
      "(10.089471850128234, 9.786809)\n",
      "(10.820218381953989, 9.838479)\n"
     ]
    }
   ],
   "source": [
    "init = tf.initialize_all_variables()\n",
    "\n",
    "with tf.Session() as sess:\n",
    "    sess.run(init)\n",
    "    for i in range(len(raw_data)):\n",
    "        summary_str, curr_avg = sess.run([merged, update_avg], feed_dict={curr_value: raw_data[i]})\n",
    "        sess.run(tf.assign(prev_avg, curr_avg))\n",
    "        print(raw_data[i], curr_avg)\n",
    "        writer.add_summary(summary_str, i)"
   ]
  },
  {
   "cell_type": "markdown",
   "metadata": {},
   "source": [
    "Check out the visualization by running TensorBoard from the terminal:\n",
    "\n",
    "```shell\n",
    "tensorboard --logdir=path/to/logs\n",
    "```\n",
    "\n",
    "![](attach_files/tensorboard.png)"
   ]
  }
 ],
 "metadata": {
  "kernelspec": {
   "display_name": "Python 2",
   "language": "python",
   "name": "python2"
  },
  "language_info": {
   "codemirror_mode": {
    "name": "ipython",
    "version": 2
   },
   "file_extension": ".py",
   "mimetype": "text/x-python",
   "name": "python",
   "nbconvert_exporter": "python",
   "pygments_lexer": "ipython2",
   "version": "2.7.9"
  }
 },
 "nbformat": 4,
 "nbformat_minor": 1
}
