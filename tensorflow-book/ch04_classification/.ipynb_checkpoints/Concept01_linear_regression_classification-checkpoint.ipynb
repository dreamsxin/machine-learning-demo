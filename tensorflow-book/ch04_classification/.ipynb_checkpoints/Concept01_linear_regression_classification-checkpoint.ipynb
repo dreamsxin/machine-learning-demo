{
 "cells": [
  {
   "cell_type": "markdown",
   "metadata": {},
   "source": [
    "# Ch 04: Concept 01\n",
    "\n",
    "## Linear regression for classification (just for demonstrative purposes)\n",
    "\n",
    "Import the usual libraries:"
   ]
  },
  {
   "cell_type": "code",
   "execution_count": 1,
   "metadata": {
    "collapsed": true
   },
   "outputs": [],
   "source": [
    "import tensorflow as tf\n",
    "import numpy as np\n",
    "import matplotlib.pyplot as plt\n",
    "%matplotlib inline"
   ]
  },
  {
   "cell_type": "markdown",
   "metadata": {},
   "source": [
    "Let's say we have numbers that we want to classify. They'll just be 1-dimensional values. Numbers close to 2 will be given the label [1]. and numbers close to 5 will be given the label [0], as designed here:"
   ]
  },
  {
   "cell_type": "code",
   "execution_count": 2,
   "metadata": {
    "collapsed": false
   },
   "outputs": [
    {
     "data": {
      "text/plain": [
       "<matplotlib.collections.PathCollection at 0x7fcdd15fe5d0>"
      ]
     },
     "execution_count": 2,
     "metadata": {},
     "output_type": "execute_result"
    },
    {
     "data": {
      "image/png": "[encoded data removed]",
      "text/plain": [
       "<matplotlib.figure.Figure at 0x7fcdf447bf10>"
      ]
     },
     "metadata": {},
     "output_type": "display_data"
    }
   ],
   "source": [
    "x_label0 = np.random.normal(5, 1, 10)\n",
    "x_label1 = np.random.normal(2, 1, 10)\n",
    "xs = np.append(x_label0, x_label1)\n",
    "labels = [0.] * len(x_label0) + [1.] * len(x_label1)\n",
    "\n",
    "plt.scatter(xs, labels)"
   ]
  },
  {
   "cell_type": "markdown",
   "metadata": {},
   "source": [
    "Define the hyper-parameters, placeholders, and variables:"
   ]
  },
  {
   "cell_type": "code",
   "execution_count": 3,
   "metadata": {
    "collapsed": true
   },
   "outputs": [],
   "source": [
    "learning_rate = 0.001\n",
    "training_epochs = 1000\n",
    "\n",
    "X = tf.placeholder(\"float\")\n",
    "Y = tf.placeholder(\"float\")\n",
    "\n",
    "w = tf.Variable([0., 0.], name=\"parameters\")"
   ]
  },
  {
   "cell_type": "markdown",
   "metadata": {},
   "source": [
    "Define the model:"
   ]
  },
  {
   "cell_type": "code",
   "execution_count": 4,
   "metadata": {
    "collapsed": true
   },
   "outputs": [],
   "source": [
    "def model(X, w):\n",
    "    return tf.add(tf.mul(w[1], tf.pow(X, 1)),\n",
    "                  tf.mul(w[0], tf.pow(X, 0)))"
   ]
  },
  {
   "cell_type": "markdown",
   "metadata": {},
   "source": [
    "Given a model, define the cost function:"
   ]
  },
  {
   "cell_type": "code",
   "execution_count": 5,
   "metadata": {
    "collapsed": true
   },
   "outputs": [],
   "source": [
    "y_model = model(X, w)\n",
    "cost = tf.reduce_sum(tf.square(Y - y_model))"
   ]
  },
  {
   "cell_type": "markdown",
   "metadata": {},
   "source": [
    "Set up the training op, and also introduce a couple ops to calculate some metrics, such as accuracy:"
   ]
  },
  {
   "cell_type": "code",
   "execution_count": 6,
   "metadata": {
    "collapsed": true
   },
   "outputs": [],
   "source": [
    "train_op = tf.train.GradientDescentOptimizer(learning_rate).minimize(cost)\n",
    "correct_prediction = tf.equal(Y, tf.to_float(tf.greater(y_model, 0.5)))\n",
    "accuracy = tf.reduce_mean(tf.to_float(correct_prediction))"
   ]
  },
  {
   "cell_type": "markdown",
   "metadata": {},
   "source": [
    "Prepare the session:"
   ]
  },
  {
   "cell_type": "code",
   "execution_count": 7,
   "metadata": {
    "collapsed": true
   },
   "outputs": [],
   "source": [
    "sess = tf.Session()\n",
    "init = tf.initialize_all_variables()\n",
    "sess.run(init)"
   ]
  },
  {
   "cell_type": "markdown",
   "metadata": {},
   "source": [
    "Running the training op multiple times on the input data:"
   ]
  },
  {
   "cell_type": "code",
   "execution_count": 8,
   "metadata": {
    "collapsed": false
   },
   "outputs": [
    {
     "name": "stdout",
     "output_type": "stream",
     "text": [
      "(0, 8.979229)\n",
      "(10, 7.4529796)\n",
      "(20, 6.3303523)\n",
      "(30, 5.4035659)\n",
      "(40, 4.6384568)\n",
      "(50, 4.0068192)\n",
      "(60, 3.4853706)\n",
      "(70, 3.0548873)\n",
      "(80, 2.6995015)\n",
      "(90, 2.4061127)\n",
      "(100, 2.1639049)\n",
      "(110, 1.9639498)\n",
      "(120, 1.7988765)\n",
      "(130, 1.6626003)\n",
      "(140, 1.550097)\n",
      "(150, 1.45722)\n",
      "(160, 1.3805454)\n",
      "(170, 1.3172462)\n",
      "(180, 1.2649899)\n",
      "(190, 1.2218493)\n",
      "(200, 1.186235)\n",
      "(210, 1.1568331)\n",
      "(220, 1.1325605)\n",
      "(230, 1.112522)\n",
      "(240, 1.0959792)\n",
      "(250, 1.0823224)\n",
      "(260, 1.071048)\n",
      "(270, 1.0617405)\n",
      "(280, 1.0540565)\n",
      "(290, 1.047713)\n",
      "(300, 1.0424763)\n",
      "(310, 1.0381529)\n",
      "(320, 1.0345838)\n",
      "(330, 1.0316374)\n",
      "(340, 1.0292052)\n",
      "(350, 1.0271971)\n",
      "(360, 1.0255392)\n",
      "(370, 1.0241704)\n",
      "(380, 1.0230407)\n",
      "(390, 1.0221081)\n",
      "(400, 1.021338)\n",
      "(410, 1.0207021)\n",
      "(420, 1.0201774)\n",
      "(430, 1.0197442)\n",
      "(440, 1.0193863)\n",
      "(450, 1.0190912)\n",
      "(460, 1.0188475)\n",
      "(470, 1.0186461)\n",
      "(480, 1.0184799)\n",
      "(490, 1.0183427)\n",
      "(500, 1.0182296)\n",
      "(510, 1.0181361)\n",
      "(520, 1.0180588)\n",
      "(530, 1.0179954)\n",
      "(540, 1.0179425)\n",
      "(550, 1.0178993)\n",
      "(560, 1.0178634)\n",
      "(570, 1.0178337)\n",
      "(580, 1.0178094)\n",
      "(590, 1.0177892)\n",
      "(600, 1.0177727)\n",
      "(610, 1.0177588)\n",
      "(620, 1.0177475)\n",
      "(630, 1.0177381)\n",
      "(640, 1.0177305)\n",
      "(650, 1.0177239)\n",
      "(660, 1.0177188)\n",
      "(670, 1.0177144)\n",
      "(680, 1.0177107)\n",
      "(690, 1.0177078)\n",
      "(700, 1.0177053)\n",
      "(710, 1.0177033)\n",
      "(720, 1.0177016)\n",
      "(730, 1.0177002)\n",
      "(740, 1.0176991)\n",
      "(750, 1.0176983)\n",
      "(760, 1.0176976)\n",
      "(770, 1.0176969)\n",
      "(780, 1.0176964)\n",
      "(790, 1.0176959)\n",
      "(800, 1.0176955)\n",
      "(810, 1.0176952)\n",
      "(820, 1.017695)\n",
      "(830, 1.0176947)\n",
      "(840, 1.0176946)\n",
      "(850, 1.0176945)\n",
      "(860, 1.0176944)\n",
      "(870, 1.0176942)\n",
      "(880, 1.0176942)\n",
      "(890, 1.017694)\n",
      "(900, 1.017694)\n",
      "(910, 1.017694)\n",
      "(920, 1.0176939)\n",
      "(930, 1.0176939)\n",
      "(940, 1.017694)\n",
      "(950, 1.0176938)\n",
      "(960, 1.0176939)\n",
      "(970, 1.0176938)\n",
      "(980, 1.0176938)\n",
      "(990, 1.0176939)\n"
     ]
    }
   ],
   "source": [
    "for epoch in range(training_epochs):\n",
    "    sess.run(train_op, feed_dict={X: xs, Y: labels})\n",
    "    current_cost = sess.run(cost, feed_dict={X: xs, Y: labels})\n",
    "    if epoch % 10 == 0:\n",
    "        print(epoch, current_cost)"
   ]
  },
  {
   "cell_type": "markdown",
   "metadata": {},
   "source": [
    "Show some final metrics/results:"
   ]
  },
  {
   "cell_type": "code",
   "execution_count": 9,
   "metadata": {
    "collapsed": false
   },
   "outputs": [
    {
     "name": "stdout",
     "output_type": "stream",
     "text": [
      "('learned parameters', array([ 1.27021515, -0.23604654], dtype=float32))\n",
      "('accuracy', 0.94999999)\n"
     ]
    }
   ],
   "source": [
    "w_val = sess.run(w)\n",
    "print('learned parameters', w_val)\n",
    "\n",
    "print('accuracy', sess.run(accuracy, feed_dict={X: xs, Y: labels}))\n",
    "\n",
    "sess.close()"
   ]
  },
  {
   "cell_type": "markdown",
   "metadata": {},
   "source": [
    "Plot the learned function"
   ]
  },
  {
   "cell_type": "code",
   "execution_count": 10,
   "metadata": {
    "collapsed": false
   },
   "outputs": [
    {
     "data": {
      "image/png": "[encoded data removed]",
      "text/plain": [
       "<matplotlib.figure.Figure at 0x7fcdd1149090>"
      ]
     },
     "metadata": {},
     "output_type": "display_data"
    }
   ],
   "source": [
    "all_xs = np.linspace(0, 10, 100)\n",
    "plt.plot(all_xs, all_xs*w_val[1] + w_val[0])\n",
    "plt.scatter(xs, labels)\n",
    "plt.show()"
   ]
  }
 ],
 "metadata": {
  "kernelspec": {
   "display_name": "Python 2",
   "language": "python",
   "name": "python2"
  },
  "language_info": {
   "codemirror_mode": {
    "name": "ipython",
    "version": 2
   },
   "file_extension": ".py",
   "mimetype": "text/x-python",
   "name": "python",
   "nbconvert_exporter": "python",
   "pygments_lexer": "ipython2",
   "version": "2.7.9"
  }
 },
 "nbformat": 4,
 "nbformat_minor": 1
}
